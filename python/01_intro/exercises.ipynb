{
 "cells": [
  {
   "cell_type": "markdown",
   "metadata": {},
   "source": [
    "### print the list `lst` sorted in descending order. `lst` must not be modified"
   ]
  },
  {
   "cell_type": "code",
   "execution_count": 59,
   "metadata": {},
   "outputs": [],
   "source": [
    "lst = [\n",
    "    12,\n",
    "    41,\n",
    "    0,\n",
    "    -5,\n",
    "    -9,\n",
    "    34,\n",
    "    12,\n",
    "    5,\n",
    "]  # you can add , also to the last element (i.e., after each element)"
   ]
  },
  {
   "cell_type": "code",
   "execution_count": 5,
   "metadata": {},
   "outputs": [
    {
     "data": {
      "text/plain": [
       "[41, 34, 12, 12, 5, 0, -5, -9]"
      ]
     },
     "execution_count": 5,
     "metadata": {},
     "output_type": "execute_result"
    }
   ],
   "source": [
    "sorted(lst, reverse=True)"
   ]
  },
  {
   "cell_type": "code",
   "execution_count": 6,
   "metadata": {},
   "outputs": [
    {
     "data": {
      "text/plain": [
       "[12, 41, 0, -5, -9, 34, 12, 5]"
      ]
     },
     "execution_count": 6,
     "metadata": {},
     "output_type": "execute_result"
    }
   ],
   "source": [
    "lst"
   ]
  },
  {
   "cell_type": "markdown",
   "metadata": {},
   "source": [
    "### construct a list with the **absolute value** of the elements of sorted `lst`, as follows. I am not asking to sort using `abs` as key\n",
    "```[9, 5, 0, 5, 12, 12, 34, 41]```\n",
    "\n",
    "Try different ways to construct such list"
   ]
  },
  {
   "cell_type": "code",
   "execution_count": 16,
   "metadata": {},
   "outputs": [
    {
     "name": "stdout",
     "output_type": "stream",
     "text": [
      "934 ns ± 5.69 ns per loop (mean ± std. dev. of 7 runs, 1000000 loops each)\n"
     ]
    }
   ],
   "source": [
    "%timeit [abs(x) for x in sorted(lst)]"
   ]
  },
  {
   "cell_type": "code",
   "execution_count": null,
   "metadata": {},
   "outputs": [],
   "source": []
  },
  {
   "cell_type": "code",
   "execution_count": 15,
   "metadata": {},
   "outputs": [
    {
     "name": "stdout",
     "output_type": "stream",
     "text": [
      "824 ns ± 11.4 ns per loop (mean ± std. dev. of 7 runs, 1000000 loops each)\n"
     ]
    }
   ],
   "source": [
    "%timeit list(map(abs,sorted(lst)))    "
   ]
  },
  {
   "cell_type": "markdown",
   "metadata": {},
   "source": [
    "### read a string from stdin, print the number of non-repeated chars "
   ]
  },
  {
   "cell_type": "code",
   "execution_count": null,
   "metadata": {},
   "outputs": [],
   "source": []
  },
  {
   "cell_type": "markdown",
   "metadata": {},
   "source": [
    "### Use the pythonic way to iterate over `lst` such that inside the `for` loop you have both the index and the corresponding element. Reproduce the following output\n",
    "\n",
    "```\n",
    "lst[0] = 12\n",
    "lst[1] = 41\n",
    "lst[2] = 0\n",
    "lst[3] = -5\n",
    "lst[4] = -9\n",
    "lst[5] = 34\n",
    "lst[6] = 12\n",
    "lst[7] = 5\n",
    "```"
   ]
  },
  {
   "cell_type": "code",
   "execution_count": 25,
   "metadata": {},
   "outputs": [
    {
     "name": "stdout",
     "output_type": "stream",
     "text": [
      "lst[0] = 12\n",
      "lst[1] = 41\n",
      "lst[2] = 0\n",
      "lst[3] = -5\n",
      "lst[4] = -9\n",
      "lst[5] = 34\n",
      "lst[6] = 12\n",
      "lst[7] = 5\n"
     ]
    }
   ],
   "source": [
    "for k, v in enumerate(lst):\n",
    "    print(\"lst[\"+str(k)+\"] = \"+str(v))"
   ]
  },
  {
   "cell_type": "markdown",
   "metadata": {},
   "source": [
    "### Transform the following for loop into a list comp"
   ]
  },
  {
   "cell_type": "code",
   "execution_count": 26,
   "metadata": {},
   "outputs": [
    {
     "data": {
      "text/plain": [
       "[1, 9, 25, 49, 81]"
      ]
     },
     "execution_count": 26,
     "metadata": {},
     "output_type": "execute_result"
    }
   ],
   "source": [
    "odd_squares = []\n",
    "for i in range(10):\n",
    "    if i % 2 != 0:\n",
    "        odd_squares.append(i * i)\n",
    "odd_squares"
   ]
  },
  {
   "cell_type": "code",
   "execution_count": 33,
   "metadata": {},
   "outputs": [
    {
     "name": "stdout",
     "output_type": "stream",
     "text": [
      "[1, 9, 25, 49, 81]\n"
     ]
    }
   ],
   "source": [
    "newlist = [x**2 for x in range(10) if x%2]\n",
    "print(newlist)"
   ]
  },
  {
   "cell_type": "markdown",
   "metadata": {},
   "source": [
    "### clear the content of `lst` such that also all other references are cleared as well"
   ]
  },
  {
   "cell_type": "code",
   "execution_count": 49,
   "metadata": {},
   "outputs": [
    {
     "name": "stdout",
     "output_type": "stream",
     "text": [
      "[]\n"
     ]
    }
   ],
   "source": [
    "other_lst = lst\n",
    "a = lst\n",
    "print(a)"
   ]
  },
  {
   "cell_type": "code",
   "execution_count": 48,
   "metadata": {},
   "outputs": [],
   "source": [
    "#lst = [del(x) for x in lst]\n",
    "del lst[:]\n",
    "lst.clear()"
   ]
  },
  {
   "cell_type": "markdown",
   "metadata": {},
   "source": [
    "### implement the following functions. Try to do it using as few lines of code as possible (e.g., 1)"
   ]
  },
  {
   "cell_type": "code",
   "execution_count": 64,
   "metadata": {},
   "outputs": [
    {
     "data": {
      "text/plain": [
       "'oaic'"
      ]
     },
     "execution_count": 64,
     "metadata": {},
     "output_type": "execute_result"
    }
   ],
   "source": [
    "string = \"ciao\"\n",
    "string[-1::-1]"
   ]
  },
  {
   "cell_type": "code",
   "execution_count": 57,
   "metadata": {},
   "outputs": [
    {
     "data": {
      "text/plain": [
       "True"
      ]
     },
     "execution_count": 57,
     "metadata": {},
     "output_type": "execute_result"
    }
   ],
   "source": [
    "def is_palindrome(string, /):\n",
    "    \"\"\"\n",
    "    returns True if string is palindrome, False otherwise\n",
    "    \"\"\"\n",
    "    return string == string[-1::-1]\n",
    "    pass\n",
    "\n",
    "\n",
    "is_palindrome(\"araara\")"
   ]
  },
  {
   "cell_type": "code",
   "execution_count": 69,
   "metadata": {},
   "outputs": [
    {
     "data": {
      "text/plain": [
       "{'l': 1, 'a': 5, 'm': 3}"
      ]
     },
     "execution_count": 69,
     "metadata": {},
     "output_type": "execute_result"
    }
   ],
   "source": [
    "def counter_dict(sequence, /):\n",
    "    \"\"\"\n",
    "    count how many times an element is present in the sequence var\n",
    "    and returns a dict\n",
    "    \"\"\"\n",
    "    \n",
    "    \n",
    "    return {i:sequence.count(i) for i in set(sequence)}\n",
    "    pass\n",
    "\n",
    "\n",
    "counter_dict(\"mammalaaa\")"
   ]
  },
  {
   "cell_type": "code",
   "execution_count": 90,
   "metadata": {},
   "outputs": [
    {
     "data": {
      "text/plain": [
       "{'h': 1,\n",
       " 'd': 1,\n",
       " 'q': 1,\n",
       " 'b': 1,\n",
       " 'e': 1,\n",
       " 'w': 1,\n",
       " 'a': 4,\n",
       " 'j': 1,\n",
       " 'k': 1,\n",
       " 'f': 1}"
      ]
     },
     "execution_count": 90,
     "metadata": {},
     "output_type": "execute_result"
    }
   ],
   "source": [
    "counter_dict(sequence)"
   ]
  },
  {
   "cell_type": "code",
   "execution_count": 72,
   "metadata": {},
   "outputs": [
    {
     "data": {
      "text/plain": [
       "{'a', 'b', 'd', 'e', 'f', 'h', 'j', 'k', 'q', 'w'}"
      ]
     },
     "execution_count": 72,
     "metadata": {},
     "output_type": "execute_result"
    }
   ],
   "source": [
    "sequence = \"aaaahwkfjbqed\"\n",
    "set(sequence)"
   ]
  },
  {
   "cell_type": "code",
   "execution_count": 99,
   "metadata": {},
   "outputs": [],
   "source": [
    "def get_most_frequent(sequence, /):\n",
    "    \"\"\"\n",
    "    returns a tuple with the most frequent object in the sequence with the \n",
    "    corresponing number\n",
    "    \"\"\"\n",
    "    \n",
    "    count = counter_dict(sequence)\n",
    "    return max(count.items(), lambda key=count : count[1])\n",
    "    \n",
    "    pass"
   ]
  },
  {
   "cell_type": "code",
   "execution_count": 100,
   "metadata": {},
   "outputs": [
    {
     "ename": "TypeError",
     "evalue": "'>' not supported between instances of 'function' and 'dict_items'",
     "output_type": "error",
     "traceback": [
      "\u001b[0;31m---------------------------------------------------------------------------\u001b[0m",
      "\u001b[0;31mTypeError\u001b[0m                                 Traceback (most recent call last)",
      "\u001b[0;32m/tmp/ipykernel_8707/3693857750.py\u001b[0m in \u001b[0;36m<module>\u001b[0;34m\u001b[0m\n\u001b[0;32m----> 1\u001b[0;31m \u001b[0mget_most_frequent\u001b[0m\u001b[0;34m(\u001b[0m\u001b[0;34m\"mammalaaaa\"\u001b[0m\u001b[0;34m)\u001b[0m\u001b[0;34m\u001b[0m\u001b[0;34m\u001b[0m\u001b[0m\n\u001b[0m",
      "\u001b[0;32m/tmp/ipykernel_8707/3509792509.py\u001b[0m in \u001b[0;36mget_most_frequent\u001b[0;34m(sequence)\u001b[0m\n\u001b[1;32m      6\u001b[0m \u001b[0;34m\u001b[0m\u001b[0m\n\u001b[1;32m      7\u001b[0m     \u001b[0mcount\u001b[0m \u001b[0;34m=\u001b[0m \u001b[0mcounter_dict\u001b[0m\u001b[0;34m(\u001b[0m\u001b[0msequence\u001b[0m\u001b[0;34m)\u001b[0m\u001b[0;34m\u001b[0m\u001b[0;34m\u001b[0m\u001b[0m\n\u001b[0;32m----> 8\u001b[0;31m     \u001b[0;32mreturn\u001b[0m \u001b[0mmax\u001b[0m\u001b[0;34m(\u001b[0m\u001b[0mcount\u001b[0m\u001b[0;34m.\u001b[0m\u001b[0mitems\u001b[0m\u001b[0;34m(\u001b[0m\u001b[0;34m)\u001b[0m\u001b[0;34m,\u001b[0m \u001b[0;32mlambda\u001b[0m \u001b[0mkey\u001b[0m\u001b[0;34m=\u001b[0m\u001b[0mcount\u001b[0m \u001b[0;34m:\u001b[0m \u001b[0mcount\u001b[0m\u001b[0;34m[\u001b[0m\u001b[0;36m1\u001b[0m\u001b[0;34m]\u001b[0m\u001b[0;34m)\u001b[0m\u001b[0;34m\u001b[0m\u001b[0;34m\u001b[0m\u001b[0m\n\u001b[0m\u001b[1;32m      9\u001b[0m \u001b[0;34m\u001b[0m\u001b[0m\n\u001b[1;32m     10\u001b[0m     \u001b[0;32mpass\u001b[0m\u001b[0;34m\u001b[0m\u001b[0;34m\u001b[0m\u001b[0m\n",
      "\u001b[0;31mTypeError\u001b[0m: '>' not supported between instances of 'function' and 'dict_items'"
     ]
    }
   ],
   "source": [
    "get_most_frequent(\"mammalaaaa\")"
   ]
  },
  {
   "cell_type": "code",
   "execution_count": 84,
   "metadata": {},
   "outputs": [],
   "source": [
    "import collections"
   ]
  },
  {
   "cell_type": "code",
   "execution_count": null,
   "metadata": {},
   "outputs": [],
   "source": [
    "help(collections)"
   ]
  },
  {
   "cell_type": "code",
   "execution_count": 96,
   "metadata": {},
   "outputs": [
    {
     "data": {
      "text/plain": [
       "{'a': 2, 'm': 3}"
      ]
     },
     "execution_count": 96,
     "metadata": {},
     "output_type": "execute_result"
    }
   ],
   "source": [
    "def which_duplicates(sequence, /):\n",
    "    \"\"\"\n",
    "    return a dict containing the repeted objects and the number of repetitions\n",
    "    \"\"\"\n",
    "    d = counter_dict(sequence)\n",
    "    return {k:v for k,v in d.items() if v>1}\n",
    "    \n",
    "    pass\n",
    "\n",
    "\n",
    "which_duplicates(\"mammal\")"
   ]
  }
 ],
 "metadata": {
  "kernelspec": {
   "display_name": "Python 3 (ipykernel)",
   "language": "python",
   "name": "python3"
  },
  "language_info": {
   "codemirror_mode": {
    "name": "ipython",
    "version": 3
   },
   "file_extension": ".py",
   "mimetype": "text/x-python",
   "name": "python",
   "nbconvert_exporter": "python",
   "pygments_lexer": "ipython3",
   "version": "3.9.7"
  }
 },
 "nbformat": 4,
 "nbformat_minor": 4
}
